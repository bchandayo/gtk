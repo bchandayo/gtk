{
  "cells": [
    {
      "cell_type": "markdown",
      "metadata": {
        "id": "view-in-github",
        "colab_type": "text"
      },
      "source": [
        "<a href=\"https://colab.research.google.com/github/bchandayo/gtk/blob/master/Friends_EDA_Analysis.ipynb\" target=\"_parent\"><img src=\"https://colab.research.google.com/assets/colab-badge.svg\" alt=\"Open In Colab\"/></a>"
      ]
    },
    {
      "source": [
        "\n",
        "# IMPORTANT: RUN THIS CELL IN ORDER TO IMPORT YOUR KAGGLE DATA SOURCES\n",
        "# TO THE CORRECT LOCATION (/kaggle/input) IN YOUR NOTEBOOK,\n",
        "# THEN FEEL FREE TO DELETE THIS CELL.\n",
        "# NOTE: THIS NOTEBOOK ENVIRONMENT DIFFERS FROM KAGGLE'S PYTHON\n",
        "# ENVIRONMENT SO THERE MAY BE MISSING LIBRARIES USED BY YOUR\n",
        "# NOTEBOOK.\n",
        "\n",
        "import os\n",
        "import sys\n",
        "from tempfile import NamedTemporaryFile\n",
        "from urllib.request import urlopen\n",
        "from urllib.parse import unquote, urlparse\n",
        "from urllib.error import HTTPError\n",
        "from zipfile import ZipFile\n",
        "import tarfile\n",
        "import shutil\n",
        "\n",
        "CHUNK_SIZE = 40960\n",
        "DATA_SOURCE_MAPPING = 'friends-tv-series-screenplay-script:https%3A%2F%2Fstorage.googleapis.com%2Fkaggle-data-sets%2F873061%2F1487503%2Fbundle%2Farchive.zip%3FX-Goog-Algorithm%3DGOOG4-RSA-SHA256%26X-Goog-Credential%3Dgcp-kaggle-com%2540kaggle-161607.iam.gserviceaccount.com%252F20240211%252Fauto%252Fstorage%252Fgoog4_request%26X-Goog-Date%3D20240211T024816Z%26X-Goog-Expires%3D259200%26X-Goog-SignedHeaders%3Dhost%26X-Goog-Signature%3D1456cde0246c5d7e4eff6cc24eb6839a0bf1aa9fd2b95ffe292e350ad0045a3b60f514e8f899631fd3a51944c08c09e98e370d96b14c048fbb5e05b7901f53d4a1575150638f9bf9bb242c7c60baecee97602bf83af16ed64689f14cb2436312a8d86b22e7cff6886013d03008fc75a3c80c7937d657144f100eafba8f334da63bee7600f8ffb0f39def0723fad810b78588de36b1724ed19f313063c59390056fac25dc9c01883c5f673f0e9bc7626008b1a257819c894b285ebf2b20c992859eb2e73eeee1071170177f407b293a74c2ff76141d49a763cbd468390944437b59aaa9c9b95f77ac41bd54279ee4cbab41fb3cdfc29d5d5c7d1aa9f791140967'\n",
        "\n",
        "KAGGLE_INPUT_PATH='/kaggle/input'\n",
        "KAGGLE_WORKING_PATH='/kaggle/working'\n",
        "KAGGLE_SYMLINK='kaggle'\n",
        "\n",
        "!umount /kaggle/input/ 2> /dev/null\n",
        "shutil.rmtree('/kaggle/input', ignore_errors=True)\n",
        "os.makedirs(KAGGLE_INPUT_PATH, 0o777, exist_ok=True)\n",
        "os.makedirs(KAGGLE_WORKING_PATH, 0o777, exist_ok=True)\n",
        "\n",
        "try:\n",
        "  os.symlink(KAGGLE_INPUT_PATH, os.path.join(\"..\", 'input'), target_is_directory=True)\n",
        "except FileExistsError:\n",
        "  pass\n",
        "try:\n",
        "  os.symlink(KAGGLE_WORKING_PATH, os.path.join(\"..\", 'working'), target_is_directory=True)\n",
        "except FileExistsError:\n",
        "  pass\n",
        "\n",
        "for data_source_mapping in DATA_SOURCE_MAPPING.split(','):\n",
        "    directory, download_url_encoded = data_source_mapping.split(':')\n",
        "    download_url = unquote(download_url_encoded)\n",
        "    filename = urlparse(download_url).path\n",
        "    destination_path = os.path.join(KAGGLE_INPUT_PATH, directory)\n",
        "    try:\n",
        "        with urlopen(download_url) as fileres, NamedTemporaryFile() as tfile:\n",
        "            total_length = fileres.headers['content-length']\n",
        "            print(f'Downloading {directory}, {total_length} bytes compressed')\n",
        "            dl = 0\n",
        "            data = fileres.read(CHUNK_SIZE)\n",
        "            while len(data) > 0:\n",
        "                dl += len(data)\n",
        "                tfile.write(data)\n",
        "                done = int(50 * dl / int(total_length))\n",
        "                sys.stdout.write(f\"\\r[{'=' * done}{' ' * (50-done)}] {dl} bytes downloaded\")\n",
        "                sys.stdout.flush()\n",
        "                data = fileres.read(CHUNK_SIZE)\n",
        "            if filename.endswith('.zip'):\n",
        "              with ZipFile(tfile) as zfile:\n",
        "                zfile.extractall(destination_path)\n",
        "            else:\n",
        "              with tarfile.open(tfile.name) as tarfile:\n",
        "                tarfile.extractall(destination_path)\n",
        "            print(f'\\nDownloaded and uncompressed: {directory}')\n",
        "    except HTTPError as e:\n",
        "        print(f'Failed to load (likely expired) {download_url} to path {destination_path}')\n",
        "        continue\n",
        "    except OSError as e:\n",
        "        print(f'Failed to load {download_url} to path {destination_path}')\n",
        "        continue\n",
        "\n",
        "print('Data source import complete.')\n"
      ],
      "metadata": {
        "id": "CSNa7EuiENgy"
      },
      "cell_type": "code",
      "outputs": [],
      "execution_count": null
    },
    {
      "metadata": {
        "id": "qBX0sgJ6ENg0"
      },
      "cell_type": "markdown",
      "source": [
        "# Introductory EDA on Friends"
      ]
    },
    {
      "metadata": {
        "id": "yhQamyvTENg1"
      },
      "cell_type": "markdown",
      "source": [
        "## 1. Import Libraries"
      ]
    },
    {
      "metadata": {
        "_cell_guid": "b1076dfc-b9ad-4769-8c92-a6c4dae69d19",
        "_uuid": "8f2839f25d086af736a60e9eeb907d3b93b6e0e5",
        "execution": {
          "iopub.execute_input": "2020-09-15T20:48:33.378572Z",
          "iopub.status.busy": "2020-09-15T20:48:33.377798Z",
          "iopub.status.idle": "2020-09-15T20:48:36.051797Z",
          "shell.execute_reply": "2020-09-15T20:48:36.051158Z"
        },
        "papermill": {
          "duration": 2.699206,
          "end_time": "2020-09-15T20:48:36.051957",
          "exception": false,
          "start_time": "2020-09-15T20:48:33.352751",
          "status": "completed"
        },
        "tags": [],
        "trusted": true,
        "id": "1RTLL-RbENg2"
      },
      "cell_type": "code",
      "source": [
        "import re\n",
        "import os\n",
        "import nltk\n",
        "import spacy\n",
        "import random\n",
        "import numpy as np\n",
        "import pandas as pd\n",
        "import seaborn as sns\n",
        "import matplotlib.pyplot as plt\n",
        "\n",
        "from PIL import Image\n",
        "from wordcloud import WordCloud\n",
        "\n",
        "from nltk import word_tokenize\n",
        "from nltk.util import ngrams"
      ],
      "execution_count": null,
      "outputs": []
    },
    {
      "metadata": {
        "papermill": {
          "duration": 0.017303,
          "end_time": "2020-09-15T20:48:36.088232",
          "exception": false,
          "start_time": "2020-09-15T20:48:36.070929",
          "status": "completed"
        },
        "tags": [],
        "id": "MAWWepMWENg2"
      },
      "cell_type": "markdown",
      "source": [
        "In this notebook we will produce a basic analysis for Friends transcripts and hopefully get a few insights. So, pour yourself a damn fine cup of coffee and bear with me!"
      ]
    },
    {
      "metadata": {
        "papermill": {
          "duration": 0.016669,
          "end_time": "2020-09-15T20:48:36.121939",
          "exception": false,
          "start_time": "2020-09-15T20:48:36.10527",
          "status": "completed"
        },
        "tags": [],
        "id": "6m7Bgnc2ENg2"
      },
      "cell_type": "markdown",
      "source": [
        "## 2. Data loading and preprocessing"
      ]
    },
    {
      "metadata": {
        "execution": {
          "iopub.execute_input": "2020-09-15T20:48:36.166032Z",
          "iopub.status.busy": "2020-09-15T20:48:36.165259Z",
          "iopub.status.idle": "2020-09-15T20:48:36.176681Z",
          "shell.execute_reply": "2020-09-15T20:48:36.175912Z"
        },
        "papermill": {
          "duration": 0.038112,
          "end_time": "2020-09-15T20:48:36.176903",
          "exception": false,
          "start_time": "2020-09-15T20:48:36.138791",
          "status": "completed"
        },
        "tags": [],
        "trusted": true,
        "id": "8xGJjmV7ENg3"
      },
      "cell_type": "code",
      "source": [
        "# count the number of episodes in each season\n",
        "ep_num = len([name for name in os.listdir('../input/friends-tv-series-screenplay-script')])\n",
        "\n",
        "\n",
        "print(\"Friends Season consists of {} episodes.\".format(ep_num))"
      ],
      "execution_count": null,
      "outputs": []
    },
    {
      "metadata": {
        "_cell_guid": "79c7e3d0-c299-4dcb-8224-4455121ee9b0",
        "_uuid": "d629ff2d2480ee46fbb7e2d37f6b5fab8052498a",
        "execution": {
          "iopub.execute_input": "2020-09-15T20:48:36.220256Z",
          "iopub.status.busy": "2020-09-15T20:48:36.219507Z",
          "iopub.status.idle": "2020-09-15T20:48:36.24052Z",
          "shell.execute_reply": "2020-09-15T20:48:36.239765Z"
        },
        "papermill": {
          "duration": 0.045284,
          "end_time": "2020-09-15T20:48:36.240655",
          "exception": false,
          "start_time": "2020-09-15T20:48:36.195371",
          "status": "completed"
        },
        "tags": [],
        "trusted": true,
        "id": "JfLM7jWCENg3"
      },
      "cell_type": "code",
      "source": [
        "import glob\n",
        "texts = \"\"\n",
        "folder_name = \"../input/friends-tv-series-screenplay-script/\"\n",
        "for f in glob.glob(folder_name + '/*.txt'):\n",
        "    temp = open(f,'r')\n",
        "    texts += temp.read()\n",
        "    temp.close()"
      ],
      "execution_count": null,
      "outputs": []
    },
    {
      "metadata": {
        "execution": {
          "iopub.execute_input": "2020-09-15T20:48:36.284047Z",
          "iopub.status.busy": "2020-09-15T20:48:36.282809Z",
          "iopub.status.idle": "2020-09-15T20:48:36.28675Z",
          "shell.execute_reply": "2020-09-15T20:48:36.287279Z"
        },
        "papermill": {
          "duration": 0.028403,
          "end_time": "2020-09-15T20:48:36.287434",
          "exception": false,
          "start_time": "2020-09-15T20:48:36.259031",
          "status": "completed"
        },
        "tags": [],
        "trusted": true,
        "id": "rYOY_3hVENg5"
      },
      "cell_type": "code",
      "source": [
        "len(texts)"
      ],
      "execution_count": null,
      "outputs": []
    },
    {
      "metadata": {
        "execution": {
          "iopub.execute_input": "2020-09-15T20:48:36.36878Z",
          "iopub.status.busy": "2020-09-15T20:48:36.367725Z",
          "iopub.status.idle": "2020-09-15T20:48:36.370958Z",
          "shell.execute_reply": "2020-09-15T20:48:36.37044Z"
        },
        "papermill": {
          "duration": 0.064964,
          "end_time": "2020-09-15T20:48:36.371101",
          "exception": false,
          "start_time": "2020-09-15T20:48:36.306137",
          "status": "completed"
        },
        "tags": [],
        "trusted": true,
        "id": "oJNC8YHhENg5"
      },
      "cell_type": "code",
      "source": [
        "text = re.sub('[^A-Za-z]+', ' ', texts)"
      ],
      "execution_count": null,
      "outputs": []
    },
    {
      "metadata": {
        "execution": {
          "iopub.execute_input": "2020-09-15T20:48:36.415365Z",
          "iopub.status.busy": "2020-09-15T20:48:36.414647Z",
          "iopub.status.idle": "2020-09-15T20:48:37.302586Z",
          "shell.execute_reply": "2020-09-15T20:48:37.301801Z"
        },
        "papermill": {
          "duration": 0.912944,
          "end_time": "2020-09-15T20:48:37.302726",
          "exception": false,
          "start_time": "2020-09-15T20:48:36.389782",
          "status": "completed"
        },
        "tags": [],
        "trusted": true,
        "id": "0J6HtyqyENg5"
      },
      "cell_type": "code",
      "source": [
        "# adding screenplay notes to stopwords\n",
        "nlp = spacy.load(\"en\")\n",
        "nlp.Defaults.stop_words |= {\"d\",\"ll\",\"m\",\"re\",\"s\",\"ve\", \"t\", \"oh\", \"uh\", \"na\", \"okay\",\n",
        "                           \"didn\",\"don\",\"gon\",\"j\",\"hm\",\"um\",\"dr\",\"room\",\"int\", \"ext\",\n",
        "                           \"cut\", \"day\", \"night\", \"theme\", \"tune\",\"music\", \"ends\",\"view\",\"opening credits scene\",\n",
        "                            \"commercial break scene\", \"hey hey hey\", \"hey\", \"closing credits scene\",\"scene\",\n",
        "                            \"closeup\", 'freshly', 'squeezed', 'fade'}\n",
        "stopwords = nlp.Defaults.stop_words"
      ],
      "execution_count": null,
      "outputs": []
    },
    {
      "metadata": {
        "papermill": {
          "duration": 0.018133,
          "end_time": "2020-09-15T20:48:37.33978",
          "exception": false,
          "start_time": "2020-09-15T20:48:37.321647",
          "status": "completed"
        },
        "tags": [],
        "id": "wuOZRqjjENg6"
      },
      "cell_type": "markdown",
      "source": [
        "## 3. Most frequent words"
      ]
    },
    {
      "metadata": {
        "execution": {
          "iopub.execute_input": "2020-09-15T20:48:37.39003Z",
          "iopub.status.busy": "2020-09-15T20:48:37.389322Z",
          "iopub.status.idle": "2020-09-15T20:48:37.39223Z",
          "shell.execute_reply": "2020-09-15T20:48:37.39273Z"
        },
        "papermill": {
          "duration": 0.034458,
          "end_time": "2020-09-15T20:48:37.392875",
          "exception": false,
          "start_time": "2020-09-15T20:48:37.358417",
          "status": "completed"
        },
        "tags": [],
        "trusted": true,
        "id": "JIkyKwM7ENg6"
      },
      "cell_type": "code",
      "source": [
        "# function to find and plot frequent words\n",
        "def plot_words(words,title,color=\"#114d1e\"):\n",
        "    counts = {}\n",
        "    for i in range(len(words)):\n",
        "        counts[words[i][0]] = words[i][1]\n",
        "    plt.figure(figsize=(8,6))\n",
        "    plt.title(title, fontsize=14)\n",
        "    plt.barh(range(len(counts)), list(counts.values()), color=color, align=\"center\")\n",
        "    plt.yticks(range(len(counts)), list(counts.keys()), fontsize=12)\n",
        "    plt.gca().invert_yaxis()\n",
        "    plt.show()\n",
        "\n",
        "def plot_ngrams(ngrams,title,color=\"#7a2822\"):\n",
        "    counts = {}\n",
        "    for i in range(len(ngrams)):\n",
        "        counts[\" \".join(ngrams[i][0])] = ngrams[i][1]\n",
        "    plt.figure(figsize=(8,6))\n",
        "    plt.title(title, fontsize=14)\n",
        "    plt.barh(range(len(counts)), list(counts.values()), color=color,align=\"center\")\n",
        "    plt.yticks(range(len(counts)), list(counts.keys()), fontsize=12)\n",
        "    plt.gca().invert_yaxis()\n",
        "    plt.show()"
      ],
      "execution_count": null,
      "outputs": []
    },
    {
      "metadata": {
        "execution": {
          "iopub.execute_input": "2020-09-15T20:48:37.436797Z",
          "iopub.status.busy": "2020-09-15T20:48:37.436044Z",
          "iopub.status.idle": "2020-09-15T20:48:37.96088Z",
          "shell.execute_reply": "2020-09-15T20:48:37.960311Z"
        },
        "papermill": {
          "duration": 0.549619,
          "end_time": "2020-09-15T20:48:37.960998",
          "exception": false,
          "start_time": "2020-09-15T20:48:37.411379",
          "status": "completed"
        },
        "tags": [],
        "trusted": true,
        "id": "n5K3-qq_ENg7"
      },
      "cell_type": "code",
      "source": [
        "all_words = nltk.tokenize.word_tokenize(text.lower())\n",
        "all_words_no_stop = nltk.FreqDist(w.lower() for w in all_words if w not in stopwords)\n",
        "plot_words(all_words_no_stop.most_common(10), \"Top 10 frequent words\")"
      ],
      "execution_count": null,
      "outputs": []
    },
    {
      "metadata": {
        "papermill": {
          "duration": 0.019284,
          "end_time": "2020-09-15T20:48:37.999474",
          "exception": false,
          "start_time": "2020-09-15T20:48:37.98019",
          "status": "completed"
        },
        "tags": [],
        "id": "kjQjAurYENg7"
      },
      "cell_type": "markdown",
      "source": [
        "Unsuprisingly, these are the **names of the main characters**.\n",
        "\n",
        "Now let's get the most frequent bigrams and bigrams, i.e. the sequences of two and three neighbouring words respectively."
      ]
    },
    {
      "metadata": {
        "execution": {
          "iopub.execute_input": "2020-09-15T20:48:38.053284Z",
          "iopub.status.busy": "2020-09-15T20:48:38.04817Z",
          "iopub.status.idle": "2020-09-15T20:48:38.284139Z",
          "shell.execute_reply": "2020-09-15T20:48:38.283466Z"
        },
        "papermill": {
          "duration": 0.264097,
          "end_time": "2020-09-15T20:48:38.284261",
          "exception": false,
          "start_time": "2020-09-15T20:48:38.020164",
          "status": "completed"
        },
        "tags": [],
        "trusted": true,
        "id": "P86Lkhs3ENg7"
      },
      "cell_type": "code",
      "source": [
        "bigram = nltk.FreqDist(nltk.bigrams(w.lower() for w in all_words if w not in stopwords))\n",
        "plot_ngrams(bigram.most_common(10), \"Top 10 frequent bigrams.\")"
      ],
      "execution_count": null,
      "outputs": []
    },
    {
      "metadata": {
        "execution": {
          "iopub.execute_input": "2020-09-15T20:48:38.338784Z",
          "iopub.status.busy": "2020-09-15T20:48:38.333438Z",
          "iopub.status.idle": "2020-09-15T20:48:38.56825Z",
          "shell.execute_reply": "2020-09-15T20:48:38.567648Z"
        },
        "papermill": {
          "duration": 0.263846,
          "end_time": "2020-09-15T20:48:38.568376",
          "exception": false,
          "start_time": "2020-09-15T20:48:38.30453",
          "status": "completed"
        },
        "tags": [],
        "trusted": true,
        "id": "KGDcR6r-ENg7"
      },
      "cell_type": "code",
      "source": [
        "trigrams = nltk.FreqDist(nltk.trigrams(w.lower() for w in all_words if w not in stopwords))\n",
        "plot_ngrams(trigrams.most_common(10), \"Top 10 frequent trigrams.\", \"#2b2e2b\")"
      ],
      "execution_count": null,
      "outputs": []
    },
    {
      "metadata": {
        "papermill": {
          "duration": 0.022504,
          "end_time": "2020-09-15T20:48:38.612253",
          "exception": false,
          "start_time": "2020-09-15T20:48:38.589749",
          "status": "completed"
        },
        "tags": [],
        "id": "el5sAvyYENg9"
      },
      "cell_type": "markdown",
      "source": [
        "What will change if we remove the names?"
      ]
    },
    {
      "metadata": {
        "execution": {
          "iopub.execute_input": "2020-09-15T20:48:38.663238Z",
          "iopub.status.busy": "2020-09-15T20:48:38.662367Z",
          "iopub.status.idle": "2020-09-15T20:48:38.665544Z",
          "shell.execute_reply": "2020-09-15T20:48:38.664941Z"
        },
        "papermill": {
          "duration": 0.032069,
          "end_time": "2020-09-15T20:48:38.665671",
          "exception": false,
          "start_time": "2020-09-15T20:48:38.633602",
          "status": "completed"
        },
        "tags": [],
        "trusted": true,
        "id": "tXfl5W8TENg9"
      },
      "cell_type": "code",
      "source": [
        "characters = [\n",
        "'monica','rachel','ross','joey','chandler','phoebe','central perk',\"opening credits scene\",\n",
        "\"commercial break scene\", \"hey hey hey\", \"hey\", \"closing credits scene\",\"scene\"]\n",
        "\n",
        "# unique names only\n",
        "names = set(\" \".join(set(characters)).lower().split())\n",
        "\n",
        "nlp.Defaults.stop_words |= names"
      ],
      "execution_count": null,
      "outputs": []
    },
    {
      "metadata": {
        "execution": {
          "iopub.execute_input": "2020-09-15T20:48:38.721576Z",
          "iopub.status.busy": "2020-09-15T20:48:38.716286Z",
          "iopub.status.idle": "2020-09-15T20:48:38.890925Z",
          "shell.execute_reply": "2020-09-15T20:48:38.890269Z"
        },
        "papermill": {
          "duration": 0.204098,
          "end_time": "2020-09-15T20:48:38.891046",
          "exception": false,
          "start_time": "2020-09-15T20:48:38.686948",
          "status": "completed"
        },
        "tags": [],
        "trusted": true,
        "id": "ljeQ9EUgENg9"
      },
      "cell_type": "code",
      "source": [
        "no_names = nltk.FreqDist(w.lower() for w in all_words if w not in stopwords)\n",
        "plot_words(no_names.most_common(10), \"Top 10 frequent words except for names\")"
      ],
      "execution_count": null,
      "outputs": []
    },
    {
      "metadata": {
        "execution": {
          "iopub.execute_input": "2020-09-15T20:48:38.964316Z",
          "iopub.status.busy": "2020-09-15T20:48:38.948727Z",
          "iopub.status.idle": "2020-09-15T20:48:39.161744Z",
          "shell.execute_reply": "2020-09-15T20:48:39.161067Z"
        },
        "papermill": {
          "duration": 0.24874,
          "end_time": "2020-09-15T20:48:39.161867",
          "exception": false,
          "start_time": "2020-09-15T20:48:38.913127",
          "status": "completed"
        },
        "tags": [],
        "trusted": true,
        "id": "cPTczmA8ENg-"
      },
      "cell_type": "code",
      "source": [
        "no_names_bigram = nltk.FreqDist(nltk.bigrams(w.lower() for w in all_words if w not in stopwords))\n",
        "plot_ngrams(no_names_bigram.most_common(10), \"Top 10 frequent bigrams except for names\")"
      ],
      "execution_count": null,
      "outputs": []
    },
    {
      "metadata": {
        "execution": {
          "iopub.execute_input": "2020-09-15T20:48:39.237386Z",
          "iopub.status.busy": "2020-09-15T20:48:39.221786Z",
          "iopub.status.idle": "2020-09-15T20:48:39.434192Z",
          "shell.execute_reply": "2020-09-15T20:48:39.433538Z"
        },
        "papermill": {
          "duration": 0.249363,
          "end_time": "2020-09-15T20:48:39.434311",
          "exception": false,
          "start_time": "2020-09-15T20:48:39.184948",
          "status": "completed"
        },
        "tags": [],
        "trusted": true,
        "id": "gFny9ai9ENg-"
      },
      "cell_type": "code",
      "source": [
        "no_names_trigram = nltk.FreqDist(nltk.trigrams(w.lower() for w in all_words if w not in stopwords))\n",
        "plot_ngrams(no_names_trigram.most_common(10), \"Top 10 frequent trigrams except for names\", \"#2b2e2b\")"
      ],
      "execution_count": null,
      "outputs": []
    },
    {
      "metadata": {
        "papermill": {
          "duration": 0.02383,
          "end_time": "2020-09-15T20:48:39.48252",
          "exception": false,
          "start_time": "2020-09-15T20:48:39.45869",
          "status": "completed"
        },
        "tags": [],
        "id": "641SxKVeENg-"
      },
      "cell_type": "markdown",
      "source": [
        "## Word Cloud for Season 1"
      ]
    },
    {
      "metadata": {
        "execution": {
          "iopub.execute_input": "2020-09-15T20:48:39.539341Z",
          "iopub.status.busy": "2020-09-15T20:48:39.538571Z",
          "iopub.status.idle": "2020-09-15T20:51:14.089718Z",
          "shell.execute_reply": "2020-09-15T20:51:14.090274Z"
        },
        "papermill": {
          "duration": 154.58399,
          "end_time": "2020-09-15T20:51:14.090447",
          "exception": false,
          "start_time": "2020-09-15T20:48:39.506457",
          "status": "completed"
        },
        "tags": [],
        "trusted": true,
        "id": "79SYuG02ENg-"
      },
      "cell_type": "code",
      "source": [
        "# the mask image taken from http://www.designcenterassoc.com/wp-content/uploads/2017/11/Friends-PNG-HD-e1509653607131.png\n",
        "# cooper_mask = np.array(Image.open('../input/temporary/Friends-PNG-HD-e1509653607131.png'))\n",
        "\n",
        "def color_func(word, font_size, position, orientation, random_state=None,\n",
        "                    **kwargs):\n",
        "    return \"hsl(0, 100%, 27%)\"\n",
        "\n",
        "wc = WordCloud(background_color=\"white\", max_words=1000,\n",
        "               stopwords=stopwords, contour_width=4, contour_color='steelblue')\n",
        "\n",
        "wc.generate(\" \".join(all_words_no_stop.keys()))\n",
        "\n",
        "plt.figure(figsize=(18, 10))\n",
        "plt.imshow(wc.recolor(color_func=color_func, random_state=3),interpolation=\"bilinear\")\n",
        "plt.axis(\"off\")"
      ],
      "execution_count": null,
      "outputs": []
    },
    {
      "metadata": {
        "papermill": {
          "duration": 0.030457,
          "end_time": "2020-09-15T20:51:14.152161",
          "exception": false,
          "start_time": "2020-09-15T20:51:14.121704",
          "status": "completed"
        },
        "tags": [],
        "id": "ZiXW2rbkENg-"
      },
      "cell_type": "markdown",
      "source": [
        "## How many times coffee was mentioned?"
      ]
    },
    {
      "metadata": {
        "execution": {
          "iopub.execute_input": "2020-09-15T20:51:14.219318Z",
          "iopub.status.busy": "2020-09-15T20:51:14.218359Z",
          "iopub.status.idle": "2020-09-15T20:51:14.22252Z",
          "shell.execute_reply": "2020-09-15T20:51:14.223056Z"
        },
        "papermill": {
          "duration": 0.040496,
          "end_time": "2020-09-15T20:51:14.223245",
          "exception": false,
          "start_time": "2020-09-15T20:51:14.182749",
          "status": "completed"
        },
        "tags": [],
        "trusted": true,
        "id": "4UACr5j7ENg-"
      },
      "cell_type": "code",
      "source": [
        "\"Well, exactly {} times\".format(all_words_no_stop['coffee'])"
      ],
      "execution_count": null,
      "outputs": []
    },
    {
      "metadata": {
        "papermill": {
          "duration": 0.037801,
          "end_time": "2020-09-15T20:51:14.292175",
          "exception": false,
          "start_time": "2020-09-15T20:51:14.254374",
          "status": "completed"
        },
        "tags": [],
        "id": "DGMXGKwkENg_"
      },
      "cell_type": "markdown",
      "source": [
        "## And what about a famous How you doin?"
      ]
    },
    {
      "metadata": {
        "execution": {
          "iopub.execute_input": "2020-09-15T20:51:14.378494Z",
          "iopub.status.busy": "2020-09-15T20:51:14.37752Z",
          "iopub.status.idle": "2020-09-15T20:51:14.381235Z",
          "shell.execute_reply": "2020-09-15T20:51:14.381862Z"
        },
        "papermill": {
          "duration": 0.050722,
          "end_time": "2020-09-15T20:51:14.382024",
          "exception": false,
          "start_time": "2020-09-15T20:51:14.331302",
          "status": "completed"
        },
        "tags": [],
        "trusted": true,
        "id": "84vzRY-hENg_"
      },
      "cell_type": "code",
      "source": [
        "\"It was mentioned {} times throughout all episodes\".format(all_words_no_stop['doin'])"
      ],
      "execution_count": null,
      "outputs": []
    },
    {
      "metadata": {
        "papermill": {
          "duration": 0.035184,
          "end_time": "2020-09-15T20:51:14.456057",
          "exception": false,
          "start_time": "2020-09-15T20:51:14.420873",
          "status": "completed"
        },
        "tags": [],
        "id": "Tk2t3ig2ENg_"
      },
      "cell_type": "markdown",
      "source": [
        "## 4. What's next?\n",
        "It would be great to do some sentiment analysis on the scripts."
      ]
    },
    {
      "metadata": {
        "trusted": true,
        "id": "FwWNQLjHENg_"
      },
      "cell_type": "code",
      "source": [],
      "execution_count": null,
      "outputs": []
    }
  ],
  "metadata": {
    "kernelspec": {
      "language": "python",
      "display_name": "Python 3",
      "name": "python3"
    },
    "language_info": {
      "pygments_lexer": "ipython3",
      "nbconvert_exporter": "python",
      "version": "3.6.4",
      "file_extension": ".py",
      "codemirror_mode": {
        "name": "ipython",
        "version": 3
      },
      "name": "python",
      "mimetype": "text/x-python"
    },
    "colab": {
      "name": "Friends EDA Analysis",
      "provenance": [],
      "include_colab_link": true
    }
  },
  "nbformat": 4,
  "nbformat_minor": 0
}